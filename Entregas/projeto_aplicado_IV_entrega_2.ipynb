{
 "cells": [
  {
   "cell_type": "markdown",
   "metadata": {
    "colab_type": "text",
    "id": "view-in-github"
   },
   "source": [
    "<a href=\"https://colab.research.google.com/github/scalabrinig/cdProjetoAplicadoIV/blob/master/projeto/cd_projeto_aplicado_IV_entrega_2.ipynb\" target=\"_parent\"><img src=\"https://colab.research.google.com/assets/colab-badge.svg\" alt=\"Open In Colab\"/></a>"
   ]
  },
  {
   "cell_type": "markdown",
   "metadata": {
    "id": "Ux5TSX--qOft"
   },
   "source": [
    "  <img src=\"https://raw.githubusercontent.com/scalabrinig/cdProjetoAplicadoIV/d093146488f56dfcf0ef286bcee8efe0e71b9c76/figuras/mackenzie_logo.jpg\" width=\"25%\" align=\"right\"/>\n",
    "\n",
    "# **PROJETO APLICADO IV - Ciência de Dados EaD - 2024/02**\n",
    "\n",
    "\n",
    "# **Entrega 2**\n",
    "\n",
    "---"
   ]
  },
  {
   "cell_type": "markdown",
   "metadata": {
    "id": "-UJ6Rj9jrJFM"
   },
   "source": [
    "# **Titulo do Projeto**:\n",
    "\n",
    "---"
   ]
  },
  {
   "cell_type": "code",
   "execution_count": null,
   "metadata": {
    "id": "yky3TEyXoGaY"
   },
   "outputs": [],
   "source": [
    "#@title **Identificação do Grupo e Opção do Projeto**\n",
    "\n",
    "#@markdown Integrantes do Grupo, nome completo em ordem alfabética (*informe: \\<nome\\>, \\<matrícula\\>*)\n",
    "Aluno1 = 'Otavio Bernardo Scandiuzzi, 10407867' #@param {type:\"string\"}\n",
    "Aluno2 = 'Lais César Fonseca, 10407066' #@param {type:\"string\"}\n"
   ]
  },
  {
   "cell_type": "markdown",
   "metadata": {
    "id": "3_YOokpLogtZ"
   },
   "source": [
    "# **Introdução**\n",
    "\n",
    "O desmatamento desenfreado figura entre as principais ameaças ao meio ambiente no Brasil, impactando diretamente a integridade de biomas essenciais como a Floresta Amazônica, o Cerrado, a Mata Atlântica, a Caatinga, o Pantanal e o Pampa. Esses biomas desempenham um papel crucial na manutenção da biodiversidade e na oferta de serviços ecossistêmicos vitais, incluindo a regulação climática, a proteção dos recursos hídricos e a conservação de espécies endêmicas. A contínua destruição dessas áreas ameaça o equilíbrio ambiental e a sustentabilidade, colocando em risco o patrimônio natural e a qualidade de vida das populações que delas dependem.\n",
    "\n",
    "Motivados pela crescente preocupação com a preservação dos biomas brasileiros e pela necessidade de prever as consequências do desmatamento contínuo, este projeto propõe a aplicação de técnicas de ciência de dados e aprendizado de máquina para estimar o tempo restante até o possível colapso desses ecossistemas, considerando as taxas atuais de desmatamento. Ao criar um \"relógio invertido\" que conta regressivamente o tempo até a extinção dos biomas, busca-se fornecer estimativas detalhadas e objetivas que alertem governos, ONGs e a sociedade sobre a gravidade da situação e a urgência de intervenções rápidas e eficazes.\n",
    "\n",
    "Integrando séries temporais e analisando a correlação entre a expansão de áreas não naturais—como agricultura e urbanização—e o decaimento das áreas naturais, o modelo desenvolvido pretende fornecer estimativas precisas do tempo até que os biomas alcancem níveis críticos de degradação ou desapareçam completamente. Este trabalho não só contribui para o avanço da ciência de dados aplicada à ecologia, mas também visa fortalecer as metas dos Objetivos de Desenvolvimento Sustentável (ODS), especialmente no que se refere à proteção da vida terrestre e à promoção de ações climáticas. Ao oferecer uma ferramenta visual para monitorar o impacto da atividade humana nos ecossistemas naturais, espera-se promover a conscientização pública e auxiliar na formulação de políticas públicas que preservem o patrimônio natural do país.\n",
    "\n",
    "A base de dados analisada apresenta informações detalhadas sobre a cobertura de diferentes biomas no Brasil ao longo de um período de 39 anos, abrangendo de 1985 a 2023. A seguir, descrevem-se os principais aspectos dessa base de dados:\n",
    "\n",
    "### Estrutura dos Dados:\n",
    "\n",
    "    - A base contém diversas colunas que identificam o país (country), o bioma ou território (territory), e uma identificação numérica única para cada característica geográfica (feature_id). Além disso, as colunas denominadas class e suas variações (class_level_0, class_level_1, class_level_2, etc.) fornecem classificações detalhadas sobre o tipo de cobertura terrestre. Essas classificações seguem uma hierarquia que descreve a cobertura, desde o nível mais geral, como \"Natural\", até categorias mais específicas, como \"Forest Formation\" e \"Savanna Formation\".\n",
    "\n",
    "#### Componentes Temporais:\n",
    "\n",
    "    - A base de dados é composta por uma série temporal anual que vai de 1985 até 2023. Cada coluna correspondente a um ano específico contém os valores numéricos da área de cobertura associada a uma determinada classe de cobertura dentro de um bioma. Esses valores estão expressos em grandes unidades numéricas (provavelmente hectares ou metros quadrados, a confirmar com a descrição completa dos metadados), representando a área de cobertura de cada tipo de vegetação em um dado ano.\n",
    "\n",
    "#### Categorias de Cobertura:\n",
    "\n",
    "    - A cobertura terrestre é classificada em diferentes categorias e subcategorias. Por exemplo, a categoria \"Natural\" inclui subtipos como \"Forest Formation\" (Formação Florestal), \"Savanna Formation\" (Formação de Savana) e outras formações ecológicas. Assim, cada linha da tabela representa uma combinação única de território, tipo de cobertura e classes hierarquizadas, com os valores de área correspondente para cada ano.\n",
    "\n",
    "Variação ao Longo do Tempo:\n",
    "\n",
    "    - A estrutura temporal dos dados permite uma análise detalhada das mudanças na cobertura dos biomas ao longo dos anos. As variações nos valores entre os anos indicam a expansão ou retração de determinadas áreas cobertas por vegetação natural ou outras classes de uso da terra. Isso permite monitorar fenômenos como desmatamento ou recuperação de áreas degradadas, fornecendo uma visão abrangente da evolução dos biomas brasileiros."
   ]
  },
  {
   "cell_type": "markdown",
   "metadata": {
    "id": "jE9yYM31oqr3"
   },
   "source": [
    "# **Referencial Teórico**\n",
    "\n",
    "Na solução proposta para o \"CountDown Biomas Brasil\", alguns conceitos chave foram empregados:\n",
    "\n",
    "    1. Séries Temporais: Os dados de degradação dos biomas brasileiros foram analisados utilizando técnicas de séries temporais, especialmente o modelo ARIMA (Autoregressive Integrated Moving Average), que é amplamente utilizado para previsão de dados dependentes do tempo. O objetivo foi prever a degradação futura com base em dados históricos.\n",
    "\n",
    "    2.Modelagem Preditiva: A modelagem preditiva foi aplicada para estimar a perda futura das áreas naturais dos biomas. O uso de ARIMA permitiu prever os níveis de degradação ao longo de 100 anos.\n",
    "\n",
    "    3.Correlação entre Fatores: Foi observada a correlação inversa entre o crescimento das áreas não naturais e o decaimento das áreas naturais, destacando a relação direta entre a expansão humana (agrícola, urbana) e a degradação dos biomas.\n",
    "\n",
    "    4.Relógio Regressivo: A partir das previsões de degradação, foi criado um conceito de \"relógio regressivo\" que conta o tempo restante até a extinção parcial (10%, 20%, 30% de perda) ou total dos biomas. Esse conceito visa criar um senso de urgência sobre a conservação ambiental.\n",
    "\n",
    "### *Trabalhos Correlacionados*\n",
    "Estudos anteriores sobre a degradação dos biomas brasileiros incluem:\n",
    "\n",
    "    MapBiomas: A plataforma de mapeamento MapBiomas utiliza imagens de satélite para monitorar as mudanças de cobertura do solo no Brasil. Esses dados foram fundamentais para a análise proposta, uma vez que fornecem uma visão abrangente da degradação ao longo do tempo.\n",
    "\n",
    "    Modelos de Séries Temporais: Trabalhos como os de Brockwell e Davis (2016) exploram o uso de ARIMA para previsão de séries temporais em diferentes campos, incluindo ecologia e previsão climática.\n",
    "\n",
    "Esses estudos fornecem um contexto sólido para a abordagem de previsão utilizada, sendo que o MapBiomas destaca o uso de dados remotos para monitoramento, enquanto ARIMA é amplamente empregado em previsões ecológicas e econômicas.\n",
    "\n",
    "### Alternativas de Solução\n",
    "    1. Redes Neurais Recorrentes (RNN/LSTM): Outra técnica popular para previsões em séries temporais são as redes neurais recorrentes, especialmente as redes LSTM (Long Short-Term Memory). Essas redes têm a vantagem de capturar padrões complexos de dependência temporal, mas exigem maior poder computacional e grandes volumes de dados para treinar corretamente (SMYL, 2020).\n",
    "\n",
    "    - Vantagens: Melhor desempenho em séries temporais com longas dependências.\n",
    "    - Limitações: Maior complexidade e necessidade de maior volume de dados.\n",
    "\n",
    "    2. Modelos de Crescimento Logístico: Esses modelos poderiam ser aplicados para modelar o crescimento de áreas não naturais e a perda de áreas naturais de maneira mais realista, assumindo um crescimento inicial acelerado seguido por uma estabilização (GOLOBOFF, 2015).\n",
    "\n",
    "    - Vantagens: Adequado para situações de crescimento que atingem um ponto de saturação.\n",
    "    - Limitações: Menos flexível para dados com grande variabilidade.\n",
    "\n",
    "    3. Análise de Clusters Espaciais: Alternativamente, a análise de clusters espaciais poderia ser aplicada para identificar regiões específicas dos biomas mais propensas à degradação acelerada. Esse tipo de análise tem sido usada para entender a distribuição geográfica da perda de cobertura vegetal (MERTENS et al., 2004).\n",
    "\n",
    "    - Vantagens: Identifica focos de degradação com alta precisão espacial.\n",
    "    - Limitações: Requer dados espaciais detalhados e técnicas de geoprocessamento."
   ]
  },
  {
   "cell_type": "markdown",
   "metadata": {
    "id": "Tax--lV7ov7G"
   },
   "source": [
    "# **Pipeline da Solução**\n",
    "\n",
    "O pipeline pode ser dividido em 5 etapas principais, descritas abaixo:\n",
    "\n",
    "1. Aquisição e Preparação dos Dados\n",
    "\n",
    "   Entrada: Os dados são adquiridos de fontes confiáveis, como o MapBiomas, que oferece séries temporais detalhadas sobre a cobertura dos biomas brasileiros desde 1985 até o presente.\n",
    "   \n",
    "    Limpeza e Filtragem: Dados são verificados para garantir a consistência (eliminação de valores ausentes, duplicatas, ou anomalias). A coluna class_level_0 é filtrada para separar as áreas \"Naturais\" das áreas \"Não Naturais\".\n",
    "\n",
    "    Saída: Dados de séries temporais limpos, com as áreas \"Naturais\" e \"Não Naturais\" separadas por bioma.\n",
    "\n",
    "    Ferramentas: Python, Pandas, NumPy.\n",
    "\n",
    "\n",
    "2. Análise Exploratória de Dados (EDA)\n",
    "\n",
    "   Visualização de Tendências: Criar gráficos de séries temporais para identificar tendências de perda de área natural e crescimento de áreas não naturais. Isso permite identificar padrões de degradação e verificar a necessidade de modelagem preditiva.\n",
    "\n",
    "    Correlação Entre Fatores: Avaliar a correlação entre a perda de áreas naturais e o aumento de áreas não naturais usando métricas como o coeficiente de correlação de Pearson.\n",
    "\n",
    "    Saída: Entendimento claro das tendências e relação entre áreas naturais e não naturais.\n",
    "\n",
    "    Ferramentas: Matplotlib, Seaborn, SciPy.\n",
    "\n",
    "3. Modelagem de Séries Temporais\n",
    "\n",
    "   Aplicação de ARIMA: O modelo ARIMA é ajustado para prever o decaimento das áreas naturais, levando em consideração os dados históricos de cada bioma. Também se aplica o modelo para prever o crescimento de áreas não naturais.\n",
    "\n",
    "    Ajuste dos Modelos: Para capturar a relação inversa entre a expansão das áreas não naturais e a perda das áreas naturais, ajusta-se a previsão para que as duas variáveis sejam modeladas conjuntamente.\n",
    "\n",
    "    Saída: Previsões para os próximos 100 anos, incluindo marcos de degradação (10%, 20%, 30%) e tempo estimado até a extinção completa.\n",
    "\n",
    "\n",
    "    Ferramentas: Statsmodels (para ARIMA), Python.\n",
    "\n",
    "4. Geração do Relógio Regressivo\n",
    "\n",
    "    Criação de Contadores: A partir das previsões, são criados relógios regressivos que mostram o tempo até atingir diferentes níveis de perda de área (10%, 20%, 30%) e a extinção completa.\n",
    "\n",
    "    Visualização Interativa: O relógio é projetado como uma interface visual que pode ser facilmente interpretada pelo público, utilizando contadores regressivos para cada bioma.\n",
    "\n",
    "    Saída: Relógios regressivos mostrando o tempo restante até a degradação e extinção para cada bioma.\n",
    "\n",
    "    Ferramentas: DALL·E, Matplotlib, Plotly.\n",
    "\n",
    "5. Refinamento e Validação\n",
    "\n",
    "    Avaliação de Resultados: Os resultados das previsões são comparados com dados históricos e fontes confiáveis (como o próprio MapBiomas) para verificar a precisão.\n",
    "\n",
    "    Ajustes do Modelo: Se necessário, parâmetros do modelo ARIMA são ajustados (ordem, diferenciação) para melhorar a acurácia das previsões. Também se pode explorar alternativas como modelos LSTM ou séries temporais bayesianas, se os resultados não forem satisfatórios.\n",
    "\n",
    "    Saída: Modelos validados e ajustados, prontos para serem aplicados em diferentes cenários de degradação.\n",
    "\n",
    "    Ferramentas: Python, Validação Cruzada (Cross-Validation), Modelos Alternativos.\n",
    "\n",
    "### Discussão do Pipeline\n",
    "##### Vantagens\n",
    "\n",
    "    Modularidade: O pipeline é modular e pode ser facilmente adaptado ou expandido para incluir novos biomas ou mais dados à medida que estão disponíveis.\n",
    "    \n",
    "    Previsões de Longo Prazo: A modelagem de séries temporais permite prever cenários de degradação para os próximos 100 anos, o que ajuda a planejar medidas de conservação a longo prazo.\n",
    "    \n",
    "    Integração de Crescimento das Áreas Não Naturais: A correlação direta entre o crescimento das áreas não naturais e a perda de áreas naturais melhora a precisão das previsões.\n",
    "\n",
    "##### Limitações\n",
    "\n",
    "    Sensibilidade aos Dados Históricos: As previsões dependem fortemente dos dados históricos e, se houver mudanças bruscas nas políticas ambientais ou impactos climáticos extremos, o modelo pode não capturar adequadamente esses fatores.\n",
    "\n",
    "    Modelos Simples: O uso de ARIMA tem limitações em cenários complexos. Alternativas como redes neurais podem fornecer previsões mais detalhadas, mas exigem mais dados e poder computacional.\n",
    "\n",
    "    Complexidade de Implementação: A integração dos relógios regressivos visuais requer desenvolvimento adicional para uma interface interativa, especialmente para torná-la acessível ao público geral.\n",
    "\n",
    "\n"
   ]
  },
  {
   "cell_type": "markdown",
   "metadata": {
    "id": "VG897rGOo1Rv"
   },
   "source": [
    "# **Cronograma**\n",
    "\n",
    "Apresentar a descrição das principais atividades de desenvolvimento e as datas para a entrega que cada atividade. Podem ser utilizadas como base as tarefas levantadas e descritas no pipeline da solução. Não esquecer das atividades relacionadas com a documentação."
   ]
  },
  {
   "cell_type": "markdown",
   "metadata": {
    "id": "KucOdKJLo3bG"
   },
   "source": [
    "# **Referências**\n",
    "\n",
    "BROCKWELL, P. J.; DAVIS, R. A. Introduction to Time Series and Forecasting. Springer, 2016.\n",
    "\n",
    "GOLOBOFF, P. Logistic Growth Models in Ecology. Springer, 2015.\n",
    "\n",
    "MERTENS, B.; LAMBIN, E. F.; THOMAS, A.; et al. Decentralized Land-Use Planning and Agricultural Expansion in the Brazilian Amazon. Ecology and Society, 9(2): 13, 2004.\n",
    "\n",
    "SMYL, S. A hybrid method of exponential smoothing and recurrent neural networks for time series forecasting. International Journal of Forecasting, 36(1): 75–85, 2020.\n",
    "\n",
    "MAPBIOMAS. MapBiomas Project – Collection 6.0 of the Annual Series of Land Use and Land Cover Maps of Brazil. Available at: https://mapbiomas.org. Accessed on: 30 Sept. 2024.\n"
   ]
  },
  {
   "cell_type": "code",
   "execution_count": null,
   "metadata": {
    "id": "Ad98o5dRo8Wq"
   },
   "outputs": [],
   "source": [
    "#@title **Avaliação**\n",
    "Referencial_teorico = 10 #@param {type:\"slider\", min:0, max:10, step:1}\n",
    "\n",
    "Pipeline_solucao = 10 #@param {type:\"slider\", min:0, max:10, step:1}\n",
    "\n",
    "Cronograma = 10 #@param {type:\"slider\", min:0, max:10, step:1}\n",
    "\n"
   ]
  },
  {
   "cell_type": "code",
   "execution_count": null,
   "metadata": {
    "colab": {
     "base_uri": "https://localhost:8080/",
     "height": 261
    },
    "id": "8R_VW8bEpKvN",
    "outputId": "906ef325-9db0-4ef7-8453-156cdd899883"
   },
   "outputs": [],
   "source": [
    "#@title **Nota Final**\n",
    "nota = 0.40*Referencial_teorico + 0.40*Pipeline_solucao + 0.20*Cronograma\n",
    "\n",
    "print(f'Nota final do trabalho {nota :.1f}')\n",
    "\n",
    "import numpy as np\n",
    "import pandas as pd\n",
    "\n",
    "alunos = pd.DataFrame()\n",
    "\n",
    "lista_nome = []\n",
    "\n",
    "for i in range(1,6):\n",
    "  exec(\"if Aluno\" + str(i) + \" !='None':  lista = Aluno\" + str(i) + \".split(','); lista_nome.append(lista[0]);\")\n",
    "\n",
    "alunos['nome'] = lista_nome\n",
    "alunos['nota'] = np.round(nota,1)\n",
    "print()\n",
    "display(alunos)"
   ]
  },
  {
   "cell_type": "code",
   "execution_count": null,
   "metadata": {},
   "outputs": [],
   "source": []
  }
 ],
 "metadata": {
  "colab": {
   "include_colab_link": true,
   "provenance": []
  },
  "kernelspec": {
   "display_name": "Python 3 (ipykernel)",
   "language": "python",
   "name": "python3"
  },
  "language_info": {
   "codemirror_mode": {
    "name": "ipython",
    "version": 3
   },
   "file_extension": ".py",
   "mimetype": "text/x-python",
   "name": "python",
   "nbconvert_exporter": "python",
   "pygments_lexer": "ipython3",
   "version": "3.12.0"
  }
 },
 "nbformat": 4,
 "nbformat_minor": 4
}
