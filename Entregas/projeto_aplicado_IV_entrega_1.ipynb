{
 "cells": [
  {
   "cell_type": "markdown",
   "metadata": {
    "colab_type": "text",
    "id": "view-in-github"
   },
   "source": [
    "<a href=\"https://colab.research.google.com/github/scalabrinig/cdProjetoAplicadoIV/blob/master/projeto/cd_projeto_aplicado_IV_entrega_1.ipynb\" target=\"_parent\"><img src=\"https://colab.research.google.com/assets/colab-badge.svg\" alt=\"Open In Colab\"/></a>"
   ]
  },
  {
   "cell_type": "markdown",
   "metadata": {
    "id": "Ux5TSX--qOft"
   },
   "source": [
    "  <img src=\"https://raw.githubusercontent.com/scalabrinig/cdProjetoAplicadoIV/d093146488f56dfcf0ef286bcee8efe0e71b9c76/figuras/mackenzie_logo.jpg\" width=\"25%\" align=\"right\"/>\n",
    "\n",
    "# **PROJETO APLICADO IV - Ciência de Dados EaD - 2024/02**\n",
    "\n",
    "\n",
    "# **Entrega 1**\n",
    "\n",
    "---"
   ]
  },
  {
   "cell_type": "markdown",
   "metadata": {
    "id": "-UJ6Rj9jrJFM"
   },
   "source": [
    "# **Titulo do Projeto**:\n",
    "\n",
    "---"
   ]
  },
  {
   "cell_type": "code",
   "execution_count": null,
   "metadata": {
    "id": "yky3TEyXoGaY"
   },
   "outputs": [],
   "source": [
    "#@title **Identificação do Grupo e Opção do Projeto**\n",
    "\n",
    "#@markdown Integrantes do Grupo, nome completo em ordem alfabética (*informe: \\<nome\\>, \\<matrícula\\>*)\n",
    "Aluno1 = 'Otavio Bernardo Scandiuzzi, 10407867' #@param {type:\"string\"}\n",
    "Aluno2 = 'Lais César Fonseca, 10407066' #@param {type:\"string\"}\n"
   ]
  },
  {
   "cell_type": "markdown",
   "metadata": {
    "id": "3_YOokpLogtZ"
   },
   "source": [
    "# **Introdução**\n",
    "\n",
    "Apresentar o contexto temático no qual o projeto se desenvolve, incluindo a área de conhecimento envolvida, além da descrição e do detalhamento do problema selecionado.\n",
    "\n"
   ]
  },
  {
   "cell_type": "markdown",
   "metadata": {
    "id": "jE9yYM31oqr3"
   },
   "source": [
    "# **Motivações e justificativa**\n",
    "\n",
    "Conter argumentos que demonstrem a relevância do tema, os interesses e benefícios envolvidos e o potencial de aplicabilidade da solução."
   ]
  },
  {
   "cell_type": "markdown",
   "metadata": {
    "id": "Tax--lV7ov7G"
   },
   "source": [
    "# **Objetivo**\n",
    "\n",
    "Descrever as pretensões e metas a serem alcançadas pelo projeto em relação ao problema escolhido pelo grupo e descrito na introdução.\n",
    "\n"
   ]
  },
  {
   "cell_type": "markdown",
   "metadata": {
    "id": "VG897rGOo1Rv"
   },
   "source": [
    "# **Descrição da base de dados**\n",
    "\n",
    "O conjunto de dados utilizados será de uma base de dados que se encontra no site *MapBiomasBrasil¹*,uma iniciativa do SEEG/OC (Sistema de Estimativas de Emissões de Gases de Efeito Estufa do Observatório do Clima).\n",
    "\n",
    "A base a utilizada se chama *COBERTURA E TRANSIÇÕES PARA OS BIOMAS (COLEÇÃO 9)²* e contém dados do período de 1985 até 2023 no qual estão disponíveis infomações de coberturas terrestres sendo elas vegetais ou antropicas segmentadas por biomas.\n",
    "\n",
    "*A área apresentada na tabela é calculada pelo MapBiomasBrasil utilizando a função ee.Image.pixelArea() no Google Earth Engine²*"
   ]
  },
  {
   "cell_type": "markdown",
   "metadata": {
    "id": "KucOdKJLo3bG"
   },
   "source": [
    "# **Referências**\n",
    "\n",
    "1 - Disponível em: [https://brasil.mapbiomas.org/]. Acesso em: 05, set 2024.\n",
    "\n",
    "2 - Disponível em: [https://brasil.mapbiomas.org/estatisticas/]. Acesso em: 05, set 2024.\n"
   ]
  },
  {
   "cell_type": "code",
   "execution_count": null,
   "metadata": {
    "id": "Ad98o5dRo8Wq"
   },
   "outputs": [],
   "source": [
    "#@title **Avaliação**\n",
    "Relevancia = 10 #@param {type:\"slider\", min:0, max:10, step:1}\n",
    "\n",
    "Fonte_dos_dados = 10 #@param {type:\"slider\", min:0, max:10, step:1}\n",
    "\n",
    "Solucao_proposta = 10 #@param {type:\"slider\", min:0, max:10, step:1}\n",
    "\n",
    "Referencias = 10 #@param {type:\"slider\", min:0, max:10, step:1}\n",
    "\n",
    "Apresentacao_geral = 10 #@param {type:\"slider\", min:0, max:10, step:1}\n",
    "\n"
   ]
  },
  {
   "cell_type": "code",
   "execution_count": null,
   "metadata": {
    "colab": {
     "base_uri": "https://localhost:8080/",
     "height": 178
    },
    "id": "8R_VW8bEpKvN",
    "outputId": "0b59fd57-1881-46d9-8671-d6355e5ee933"
   },
   "outputs": [],
   "source": [
    "#@title **Nota Final**\n",
    "nota = 0.25*Relevancia + 0.25*Fonte_dos_dados + 0.25*Solucao_proposta + 0.15*Referencias + 0.10*Apresentacao_geral\n",
    "\n",
    "print(f'Nota da entrega {nota :.1f}')\n",
    "\n",
    "import numpy as np\n",
    "import pandas as pd\n",
    "\n",
    "alunos = pd.DataFrame()\n",
    "\n",
    "lista_nome = []\n",
    "\n",
    "for i in range(1,4):\n",
    "  exec(\"if Aluno\" + str(i) + \" !='None':  lista = Aluno\" + str(i) + \".split(','); lista_nome.append(lista[0]);\")\n",
    "\n",
    "alunos['nome'] = lista_nome\n",
    "alunos['nota'] = np.round(nota,1)\n",
    "print()\n",
    "display(alunos)"
   ]
  }
 ],
 "metadata": {
  "colab": {
   "include_colab_link": true,
   "provenance": []
  },
  "kernelspec": {
   "display_name": "Python 3 (ipykernel)",
   "language": "python",
   "name": "python3"
  },
  "language_info": {
   "codemirror_mode": {
    "name": "ipython",
    "version": 3
   },
   "file_extension": ".py",
   "mimetype": "text/x-python",
   "name": "python",
   "nbconvert_exporter": "python",
   "pygments_lexer": "ipython3",
   "version": "3.12.0"
  }
 },
 "nbformat": 4,
 "nbformat_minor": 4
}
