{
 "cells": [
  {
   "cell_type": "markdown",
   "metadata": {
    "colab_type": "text",
    "id": "view-in-github"
   },
   "source": [
    "<a href=\"https://colab.research.google.com/github/scalabrinig/cdProjetoAplicadoIV/blob/master/projeto/cd_projeto_aplicado_IV_entrega_1.ipynb\" target=\"_parent\"><img src=\"https://colab.research.google.com/assets/colab-badge.svg\" alt=\"Open In Colab\"/></a>"
   ]
  },
  {
   "cell_type": "markdown",
   "metadata": {
    "id": "Ux5TSX--qOft"
   },
   "source": [
    "  <img src=\"https://raw.githubusercontent.com/scalabrinig/cdProjetoAplicadoIV/d093146488f56dfcf0ef286bcee8efe0e71b9c76/figuras/mackenzie_logo.jpg\" width=\"25%\" align=\"right\"/>\n",
    "\n",
    "# **PROJETO APLICADO IV - Ciência de Dados EaD - 2024/02**\n",
    "\n",
    "\n",
    "# **Entrega 1**\n",
    "\n",
    "---"
   ]
  },
  {
   "cell_type": "markdown",
   "metadata": {
    "id": "-UJ6Rj9jrJFM"
   },
   "source": [
    "# **Titulo do Projeto**:\n",
    "\n",
    "**CountDownBiomasBrasil**"
   ]
  },
  {
   "cell_type": "code",
   "execution_count": null,
   "metadata": {
    "id": "yky3TEyXoGaY"
   },
   "outputs": [],
   "source": [
    "#@title **Identificação do Grupo e Opção do Projeto**\n",
    "\n",
    "#@markdown Integrantes do Grupo, nome completo em ordem alfabética (*informe: \\<nome\\>, \\<matrícula\\>*)\n",
    "Aluno1 = 'Otavio Bernardo Scandiuzzi, 10407867' #@param {type:\"string\"}\n",
    "Aluno2 = 'Lais César Fonseca, 10407066' #@param {type:\"string\"}\n"
   ]
  },
  {
   "cell_type": "markdown",
   "metadata": {
    "id": "3_YOokpLogtZ"
   },
   "source": [
    "# **Introdução**\n",
    "\n",
    "O desmatamento desenfreado figura entre as principais ameaças ao meio ambiente no Brasil, com impactos diretos sobre a integridade dos biomas nacionais, como a Floresta Amazônica, o Cerrado, a Mata Atlântica, a Caatinga, o Pantanal e o Pampa. Cada um desses biomas desempenha um papel essencial na manutenção da biodiversidade e na oferta de serviços ecossistêmicos, como regulação do clima, proteção de recursos hídricos e conservação de espécies endêmicas. No entanto, a destruição contínua dessas áreas ameaça o equilíbrio ambiental e a sustentabilidade, colocando em risco tanto o patrimônio natural quanto a qualidade de vida das populações que delas dependem.\n",
    "\n",
    "\r\n",
    "Diante dessa crise ambiental, o uso de tecnologias avançadas, como a ciência de dados e o aprendizado de máquina, oferece novas formas de entender e prever a progressão do desmatamento. Este trabalho visa aplicar séries temporais e técnicas de machine learning para estimar o tempo restante até o colapso dos biomas brasileiros, considerando as taxas atuais de desmatamento. A pesquisa busca apresentar estimativas detalhadas sobre o tempo que resta para cada bioma, fornecendo uma visão crítica e objetiva da urgência das ações necessárias para frear essa devastação.\r\n",
    "Dessa forma, podemos contribuir não apenas para o avanço da ciência de dados aplicada à ecologia, mas também para a conscientização pública e o fortalecimento das metas dos Objetivos de Desenvolvimento Sustentável (ODS), especialmente no que se refere à proteção da vida terrestre e à promoção de ações climáticas.\r\n",
    "\n"
   ]
  },
  {
   "cell_type": "markdown",
   "metadata": {
    "id": "jE9yYM31oqr3"
   },
   "source": [
    "# **Motivações e justificativa**\n",
    "\n",
    "A motivação para o desenvolvimento deste projeto surge da crescente preocupação com a preservação dos biomas brasileiros e a necessidade de prever as consequências do desmatamento contínuo. O Brasil, detentor de uma vasta riqueza ecológica, enfrenta um dilema entre crescimento econômico e conservação ambiental. No entanto, o avanço do desmatamento, impulsionado por atividades como a expansão agrícola e a exploração de recursos naturais, tem provocado danos irreversíveis à natureza. Entender o tempo que resta até o possível esgotamento desses biomas é essencial para alertar governos, ONGs e a sociedade sobre a gravidade da situação e promover intervenções rápidas e eficazes.\n",
    "\n",
    "Este projeto se justifica pela relevância ambiental e social dos biomas brasileiros, que vão muito além da biodiversidade. Além de fornecer recursos fundamentais, como água e alimentos, essas áreas têm papel decisivo na regulação climática e no armazenamento de carbono, fatores cruciais no combate às mudanças climáticas. Com o aumento das taxas de desmatamento, é urgente prever o tempo de colapso de cada bioma para possibilitar ações de conservação mais eficazes. Ao integrar ciência de dados e ecologia, este trabalho propõe soluções inovadoras para um dos problemas mais críticos da atualidade, buscando contribuir com informações valiosas para a formulação de políticas públicas e a preservação do patrimônio natural do país."
   ]
  },
  {
   "cell_type": "markdown",
   "metadata": {
    "id": "Tax--lV7ov7G"
   },
   "source": [
    "# **Objetivo**\n",
    "\n",
    "O objetivo desse projeto é criar um 'relógio invertido' que conta de forma regressiva o tempo restante para que os biomas brasileiros sejam extintos. Utilizando conhecimentos de séries temporais e machine learning, nosso modelo busca realizar uma previsão aproximada da degradação futura com base em dados históricos. O relógio também considera a correlação entre a expansão de áreas não naturais (como agricultura e urbanização) e o decaimento das áreas naturais, fornecendo estimativas precisas do tempo até que os biomas alcancem níveis críticos de degradação ou desapareçam completamente. Esse projeto visa alertar sobre a urgência das ações de conservação, fornecendo uma ferramenta visual para acompanhar o impacto da atividade humana nos ecossistemas naturais.\n"
   ]
  },
  {
   "cell_type": "markdown",
   "metadata": {
    "id": "VG897rGOo1Rv"
   },
   "source": [
    "# **Descrição da base de dados**\n",
    "\n",
    "O conjunto de dados utilizados será de uma base de dados que se encontra no site *MapBiomasBrasil¹*,uma iniciativa do SEEG/OC (Sistema de Estimativas de Emissões de Gases de Efeito Estufa do Observatório do Clima).\n",
    "\n",
    "A base a utilizada se chama *COBERTURA E TRANSIÇÕES PARA OS BIOMAS (COLEÇÃO 9)²* e contém dados do período de 1985 até 2023 no qual estão disponíveis infomações de coberturas terrestres sendo elas vegetais ou antropicas segmentadas por biomas.\n",
    "\n",
    "*A área apresentada na tabela é calculada pelo MapBiomasBrasil utilizando a função ee.Image.pixelArea() no Google Earth Engine²*"
   ]
  },
  {
   "cell_type": "markdown",
   "metadata": {
    "id": "KucOdKJLo3bG"
   },
   "source": [
    "# **Referências**\n",
    "\n",
    "1 - Disponível em: [https://brasil.mapbiomas.org/]. Acesso em: 05, set 2024.\n",
    "\n",
    "2 - Disponível em: [https://brasil.mapbiomas.org/estatisticas/]. Acesso em: 05, set 2024.\n"
   ]
  },
  {
   "cell_type": "code",
   "execution_count": null,
   "metadata": {
    "id": "Ad98o5dRo8Wq"
   },
   "outputs": [],
   "source": [
    "#@title **Avaliação**\n",
    "Relevancia = 10 #@param {type:\"slider\", min:0, max:10, step:1}\n",
    "\n",
    "Fonte_dos_dados = 10 #@param {type:\"slider\", min:0, max:10, step:1}\n",
    "\n",
    "Solucao_proposta = 10 #@param {type:\"slider\", min:0, max:10, step:1}\n",
    "\n",
    "Referencias = 10 #@param {type:\"slider\", min:0, max:10, step:1}\n",
    "\n",
    "Apresentacao_geral = 10 #@param {type:\"slider\", min:0, max:10, step:1}\n",
    "\n"
   ]
  },
  {
   "cell_type": "code",
   "execution_count": null,
   "metadata": {
    "colab": {
     "base_uri": "https://localhost:8080/",
     "height": 178
    },
    "id": "8R_VW8bEpKvN",
    "outputId": "0b59fd57-1881-46d9-8671-d6355e5ee933"
   },
   "outputs": [],
   "source": [
    "#@title **Nota Final**\n",
    "nota = 0.25*Relevancia + 0.25*Fonte_dos_dados + 0.25*Solucao_proposta + 0.15*Referencias + 0.10*Apresentacao_geral\n",
    "\n",
    "print(f'Nota da entrega {nota :.1f}')\n",
    "\n",
    "import numpy as np\n",
    "import pandas as pd\n",
    "\n",
    "alunos = pd.DataFrame()\n",
    "\n",
    "lista_nome = []\n",
    "\n",
    "for i in range(1,4):\n",
    "  exec(\"if Aluno\" + str(i) + \" !='None':  lista = Aluno\" + str(i) + \".split(','); lista_nome.append(lista[0]);\")\n",
    "\n",
    "alunos['nome'] = lista_nome\n",
    "alunos['nota'] = np.round(nota,1)\n",
    "print()\n",
    "display(alunos)"
   ]
  }
 ],
 "metadata": {
  "colab": {
   "include_colab_link": true,
   "provenance": []
  },
  "kernelspec": {
   "display_name": "Python 3 (ipykernel)",
   "language": "python",
   "name": "python3"
  },
  "language_info": {
   "codemirror_mode": {
    "name": "ipython",
    "version": 3
   },
   "file_extension": ".py",
   "mimetype": "text/x-python",
   "name": "python",
   "nbconvert_exporter": "python",
   "pygments_lexer": "ipython3",
   "version": "3.12.0"
  }
 },
 "nbformat": 4,
 "nbformat_minor": 4
}
